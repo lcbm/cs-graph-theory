{
 "cells": [
  {
   "cell_type": "code",
   "execution_count": 2,
   "metadata": {},
   "outputs": [],
   "source": [
    "from pyspark import SparkConf\n",
    "from pyspark.context import SparkContext\n",
    "from pyspark.sql.session import SparkSession\n",
    "\n",
    "conf = SparkConf().setAppName('appName').setMaster('local')\n",
    "sc = SparkContext.getOrCreate(conf)\n",
    "spark = SparkSession(sc)"
   ]
  },
  {
   "cell_type": "code",
   "execution_count": 3,
   "metadata": {},
   "outputs": [],
   "source": [
    "from graphframes import *\n",
    "\n",
    "nodes = spark.read.csv('data/transport-nodes.csv', header=True)\n",
    "rels = spark.read.csv('data/transport-relationships.csv', header=True)\n",
    "g = GraphFrame(nodes, rels)"
   ]
  },
  {
   "cell_type": "code",
   "execution_count": 4,
   "metadata": {},
   "outputs": [],
   "source": [
    "total_degree = g.degrees\n",
    "in_degree    = g.inDegrees\n",
    "out_degree   = g.outDegrees"
   ]
  },
  {
   "cell_type": "code",
   "execution_count": 5,
   "metadata": {},
<<<<<<< HEAD
   "outputs": [],
   "source": [
    "total_degree = g.degrees\n",
    "in_degree    = g.inDegrees\n",
    "out_degree   = g.outDegrees"
   ]
  },
  {
   "cell_type": "code",
   "execution_count": 4,
   "metadata": {},
   "outputs": [
    {
     "name": "stdout",
     "output_type": "stream",
     "text": [
      "+----------------+------+--------+---------+\n",
      "|              id|degree|inDegree|outDegree|\n",
      "+----------------+------+--------+---------+\n",
      "|       Rotterdam|     3|       3|        0|\n",
      "|         Utrecht|     2|       2|        0|\n",
      "|        Den Haag|     4|       2|        2|\n",
      "|       Immingham|     2|       1|        1|\n",
      "|       Doncaster|     2|       1|        1|\n",
      "|           Gouda|     3|       1|        2|\n",
      "|         Ipswich|     2|       1|        1|\n",
      "|          London|     2|       1|        1|\n",
      "|      Colchester|     2|       1|        1|\n",
      "|Hoek van Holland|     3|       1|        2|\n",
      "|      Felixstowe|     2|       1|        1|\n",
      "|       Amsterdam|     3|       0|        3|\n",
      "+----------------+------+--------+---------+\n",
      "\n"
     ]
    }
   ],
   "source": [
    "# create table with graph nodes, sorted by 'inDegree' (descending)\n",
    "\n",
    "(total_degree\n",
    "    .join(in_degree, \"id\", how=\"left\")\n",
    "    .join(out_degree, \"id\", how=\"left\")\n",
    "    .fillna(0)\n",
    "    .sort(\"inDegree\", ascending=False)\n",
    "    .show())"
=======
   "outputs": [
    {
     "name": "stdout",
     "output_type": "stream",
     "text": [
      "+-------------+------+--------+---------+\n",
      "|           id|degree|inDegree|outDegree|\n",
      "+-------------+------+--------+---------+\n",
      "|    Salgueiro|     3|       3|        0|\n",
      "|      Caruaru|     2|       2|        0|\n",
      "|     Igarassu|     4|       2|        2|\n",
      "|          Exu|     3|       1|        2|\n",
      "|      Carpina|     2|       1|        1|\n",
      "|Serra Talhada|     3|       1|        2|\n",
      "|    Petrolina|     2|       1|        1|\n",
      "|      Surubim|     2|       1|        1|\n",
      "|     Ouricuri|     2|       1|        1|\n",
      "|    Instancia|     2|       1|        1|\n",
      "|   Arco Verde|     2|       1|        1|\n",
      "|    Araripina|     3|       0|        3|\n",
      "+-------------+------+--------+---------+\n",
      "\n"
     ]
    }
   ],
   "source": [
<<<<<<< HEAD
    "g"
>>>>>>> d7b59ff... chore: add graphframes jupyter notebook
=======
    "# create table with graph nodes, sorted by 'inDegree' (descending)\n",
    "\n",
    "(total_degree\n",
    "    .join(in_degree, \"id\", how=\"left\")\n",
    "    .join(out_degree, \"id\", how=\"left\")\n",
    "    .fillna(0)\n",
    "    .sort(\"inDegree\", ascending=False)\n",
    "    .show())"
>>>>>>> ad50bde... chore: add graphframes example
   ]
  }
 ],
 "metadata": {
  "kernelspec": {
   "display_name": "Python 3",
   "language": "python",
   "name": "python3"
  },
  "language_info": {
   "codemirror_mode": {
    "name": "ipython",
    "version": 3
   },
   "file_extension": ".py",
   "mimetype": "text/x-python",
   "name": "python",
   "nbconvert_exporter": "python",
   "pygments_lexer": "ipython3",
   "version": "3.7.6"
  }
 },
 "nbformat": 4,
 "nbformat_minor": 4
}
