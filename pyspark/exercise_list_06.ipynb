{
 "cells": [
  {
   "cell_type": "markdown",
   "metadata": {},
   "source": [
    "# Exercise List 6\n",
    "\n",
    "Utilizando o Apache Spark e demais ferramentas correlatas, além do grafo construído na lista 5, implemente as seguintes operações:\n",
    "\n",
    "1. Determine o nó central através do grau.\n",
    "2. Determine o nó central por centralidade utilizando a distância de Wasserman e a distância harmônica (consultar material).\n",
    "3. Determine o nó central por intermediação."
   ]
  },
  {
   "cell_type": "markdown",
   "metadata": {},
   "source": [
    "**Setup**"
   ]
  },
  {
   "cell_type": "code",
   "execution_count": 1,
   "metadata": {},
   "outputs": [],
   "source": [
    "from pyspark import SparkConf\n",
    "from pyspark.context import SparkContext\n",
    "from pyspark.sql.session import SparkSession\n",
    "\n",
    "conf = SparkConf().setAppName('appName').setMaster('local')\n",
    "sc = SparkContext.getOrCreate(conf)\n",
    "spark = SparkSession(sc)"
   ]
  },
  {
   "cell_type": "markdown",
   "metadata": {},
   "source": [
    "**Crie um CSV para armazenar as cidades, com: `id` (nome da cidade), `latitude`, `longitude` e `população`**"
   ]
  },
  {
   "cell_type": "code",
   "execution_count": 2,
   "metadata": {},
   "outputs": [
    {
     "name": "stdout",
     "output_type": "stream",
     "text": [
      "+---------+--------+---------+----------+\n",
      "|       id|latitude|longitude|population|\n",
      "+---------+--------+---------+----------+\n",
      "|Araripina|  7.5766|  40.4976|     84418|\n",
      "|  Caruaru|  8.2760|  35.9819|    277982|\n",
      "| Igarassu|   78292|   349016|     91953|\n",
      "|  Cabrobo|  8.5082|  39.3103|     33856|\n",
      "|  Carpina|  7.8450|  35.2437|     81054|\n",
      "| Ouricuri|  7.8809|  40.0810|     69459|\n",
      "|  Surubim|  7.8543|  35.7630|     64520|\n",
      "|Petrolina|  9.3891|  40.5031|       217|\n",
      "|Salgueiro|  8.0725|  39.1268|     59769|\n",
      "|   Recife|  8.0522|  34.9286|   1555000|\n",
      "+---------+--------+---------+----------+\n",
      "\n"
     ]
    }
   ],
   "source": [
    "cidades = spark.read.format(\"csv\").option(\"header\", \"true\").load(\"data/transport/transport-nodes.csv\")\n",
    "cidades.show()"
   ]
  },
  {
   "cell_type": "markdown",
   "metadata": {},
   "source": [
    "**Crie outro CSV para armazenar a distância entre essas cidades, com: `src`, `dst` e `relationship` como campos**"
   ]
  },
  {
   "cell_type": "code",
   "execution_count": 3,
   "metadata": {},
   "outputs": [
    {
     "name": "stdout",
     "output_type": "stream",
     "text": [
      "+---------+---------+------------+----+\n",
      "|      src|      dst|relationship|cost|\n",
      "+---------+---------+------------+----+\n",
      "|Araripina|  Caruaru|       EROAD| 551|\n",
      "|Araripina| Igarassu|       EROAD| 700|\n",
      "|Araripina|  Cabrobo|       EROAD| 186|\n",
      "|   Recife|  Surubim|       EROAD| 118|\n",
      "|   Recife|Salgueiro|       EROAD| 510|\n",
      "|   Recife|  Caruaru|       EROAD| 510|\n",
      "| Ouricuri| Igarassu|       EROAD| 641|\n",
      "| Ouricuri|  Surubim|       EROAD| 525|\n",
      "| Ouricuri|Salgueiro|       EROAD| 359|\n",
      "|  Cabrobo| Ouricuri|       EROAD| 127|\n",
      "|  Cabrobo|  Carpina|       EROAD| 502|\n",
      "|  Cabrobo|   Recife|       EROAD| 526|\n",
      "| Igarassu|Salgueiro|       EROAD| 529|\n",
      "| Igarassu| Ouricuri|       EROAD| 197|\n",
      "| Igarassu|   Recife|       EROAD|  28|\n",
      "|  Carpina|Petrolina|       EROAD| 681|\n",
      "|  Carpina|Salgueiro|       EROAD| 480|\n",
      "|  Carpina| Ouricuri|       EROAD| 591|\n",
      "|Petrolina| Ouricuri|       EROAD| 154|\n",
      "|Petrolina|  Surubim|       EROAD|  66|\n",
      "|Petrolina| Igarassu|       EROAD| 726|\n",
      "|  Surubim|Araripina|       EROAD| 583|\n",
      "|  Surubim|  Caruaru|       EROAD|  67|\n",
      "|  Surubim|Salgueiro|       EROAD| 413|\n",
      "|Salgueiro|Araripina|       EROAD| 171|\n",
      "|Salgueiro|  Cabrobo|       EROAD|  60|\n",
      "|Salgueiro|Petrolina|       EROAD| 234|\n",
      "|  Caruaru| Igarassu|       EROAD| 151|\n",
      "|  Caruaru|Petrolina|       EROAD| 576|\n",
      "|  Caruaru| Ouricuri|       EROAD| 492|\n",
      "+---------+---------+------------+----+\n",
      "\n"
     ]
    }
   ],
   "source": [
    "distancias = spark.read.format(\"csv\").option(\"header\", \"true\").load(\"data/transport/transport-relationships.csv\")\n",
    "distancias.show(30)"
   ]
  },
  {
   "cell_type": "markdown",
   "metadata": {},
   "source": [
    "**Utilizando as bibliotecas do Spark, crie um objeto GraphFrame a partir desses dois CSVs.**"
   ]
  },
  {
   "cell_type": "code",
   "execution_count": 6,
   "metadata": {},
   "outputs": [],
   "source": [
    "from graphframes import *\n",
    "\n",
    "g = GraphFrame(cidades, distancias)"
   ]
  },
  {
   "cell_type": "code",
   "execution_count": 7,
   "metadata": {},
   "outputs": [
    {
     "name": "stdout",
     "output_type": "stream",
     "text": [
      "+---------+--------+---------+----------+\n",
      "|       id|latitude|longitude|population|\n",
      "+---------+--------+---------+----------+\n",
      "|Araripina|  7.5766|  40.4976|     84418|\n",
      "|  Caruaru|  8.2760|  35.9819|    277982|\n",
      "| Igarassu|   78292|   349016|     91953|\n",
      "|  Cabrobo|  8.5082|  39.3103|     33856|\n",
      "|  Carpina|  7.8450|  35.2437|     81054|\n",
      "| Ouricuri|  7.8809|  40.0810|     69459|\n",
      "|  Surubim|  7.8543|  35.7630|     64520|\n",
      "|Petrolina|  9.3891|  40.5031|       217|\n",
      "|Salgueiro|  8.0725|  39.1268|     59769|\n",
      "|   Recife|  8.0522|  34.9286|   1555000|\n",
      "+---------+--------+---------+----------+\n",
      "\n"
     ]
    }
   ],
   "source": [
    "g.vertices.show()"
   ]
  },
  {
   "cell_type": "code",
   "execution_count": 8,
   "metadata": {
    "scrolled": true
   },
   "outputs": [
    {
     "name": "stdout",
     "output_type": "stream",
     "text": [
      "+---------+---------+------------+----+\n",
      "|      src|      dst|relationship|cost|\n",
      "+---------+---------+------------+----+\n",
      "|Araripina|  Caruaru|       EROAD| 551|\n",
      "|Araripina| Igarassu|       EROAD| 700|\n",
      "|Araripina|  Cabrobo|       EROAD| 186|\n",
      "|   Recife|  Surubim|       EROAD| 118|\n",
      "|   Recife|Salgueiro|       EROAD| 510|\n",
      "|   Recife|  Caruaru|       EROAD| 510|\n",
      "| Ouricuri| Igarassu|       EROAD| 641|\n",
      "| Ouricuri|  Surubim|       EROAD| 525|\n",
      "| Ouricuri|Salgueiro|       EROAD| 359|\n",
      "|  Cabrobo| Ouricuri|       EROAD| 127|\n",
      "|  Cabrobo|  Carpina|       EROAD| 502|\n",
      "|  Cabrobo|   Recife|       EROAD| 526|\n",
      "| Igarassu|Salgueiro|       EROAD| 529|\n",
      "| Igarassu| Ouricuri|       EROAD| 197|\n",
      "| Igarassu|   Recife|       EROAD|  28|\n",
      "|  Carpina|Petrolina|       EROAD| 681|\n",
      "|  Carpina|Salgueiro|       EROAD| 480|\n",
      "|  Carpina| Ouricuri|       EROAD| 591|\n",
      "|Petrolina| Ouricuri|       EROAD| 154|\n",
      "|Petrolina|  Surubim|       EROAD|  66|\n",
      "+---------+---------+------------+----+\n",
      "only showing top 20 rows\n",
      "\n"
     ]
    }
   ],
   "source": [
    "g.edges.show()"
   ]
  },
  {
   "cell_type": "markdown",
   "metadata": {},
   "source": [
    "### 1. Determine o nó central através do grau."
   ]
  },
  {
   "cell_type": "code",
   "execution_count": 9,
   "metadata": {},
   "outputs": [],
   "source": [
    "total_degree = g.degrees\n",
    "in_degree    = g.inDegrees\n",
    "out_degree   = g.outDegrees"
   ]
  },
  {
   "cell_type": "code",
   "execution_count": 10,
   "metadata": {},
   "outputs": [
    {
     "name": "stdout",
     "output_type": "stream",
     "text": [
      "+---------+------+--------+---------+\n",
      "|       id|degree|inDegree|outDegree|\n",
      "+---------+------+--------+---------+\n",
      "| Ouricuri|     8|       5|        3|\n",
      "|Salgueiro|     8|       5|        3|\n",
      "| Igarassu|     7|       4|        3|\n",
      "|Petrolina|     6|       3|        3|\n",
      "|  Caruaru|     6|       3|        3|\n",
      "|  Surubim|     6|       3|        3|\n",
      "|   Recife|     5|       2|        3|\n",
      "|Araripina|     5|       2|        3|\n",
      "|  Cabrobo|     5|       2|        3|\n",
      "|  Carpina|     4|       1|        3|\n",
      "+---------+------+--------+---------+\n",
      "\n"
     ]
    }
   ],
   "source": [
    "(total_degree\n",
    "    .join(in_degree, \"id\", how=\"left\")\n",
    "    .join(out_degree, \"id\", how=\"left\")\n",
    "    .fillna(0)\n",
    "    .sort(\"inDegree\", ascending=False)\n",
    "    .show())"
   ]
  },
  {
   "cell_type": "markdown",
   "metadata": {},
   "source": [
    "Por grau, os nós centrais são: Ouricuri e Salgueiro."
   ]
  },
  {
   "cell_type": "markdown",
   "metadata": {},
   "source": [
    "### 2. Determine o nó central por centralidade utilizando a distância de Wasserman e a distância harmônica (consultar material)."
   ]
  },
  {
   "cell_type": "code",
   "execution_count": 33,
   "metadata": {},
   "outputs": [
    {
     "name": "stdout",
     "output_type": "stream",
     "text": [
      "Requirement already satisfied: networkx in /opt/conda/lib/python3.7/site-packages (2.4)\n",
      "Requirement already satisfied: decorator>=4.3.0 in /opt/conda/lib/python3.7/site-packages (from networkx) (4.4.2)\n"
     ]
    }
   ],
   "source": [
    "import sys\n",
    "\n",
    "# install a pip package in the current Jupyter kernel\n",
    "!{sys.executable} -m pip install networkx"
   ]
  },
  {
   "cell_type": "code",
   "execution_count": 34,
   "metadata": {},
   "outputs": [],
   "source": [
    "import networkx as nx\n",
    "import pandas as pd\n",
    "import json"
   ]
  },
  {
   "cell_type": "code",
   "execution_count": 35,
   "metadata": {},
   "outputs": [],
   "source": [
    "df = pd.read_csv('data/transport/transport-relationships-networkx.csv')"
   ]
  },
  {
   "cell_type": "code",
   "execution_count": 36,
   "metadata": {},
   "outputs": [],
   "source": [
    "Graphtype = nx.DiGraph()\n",
    "gnx = nx.from_pandas_edgelist(df, edge_attr='cost', create_using=Graphtype)"
   ]
  },
  {
   "cell_type": "code",
   "execution_count": 44,
   "metadata": {},
   "outputs": [],
   "source": [
    "def run_algorithm(runnable, parameter, return_max_only=True):\n",
    "    result = runnable(parameter)\n",
    "    print(json.dumps(result, indent=2))\n",
    "    return result if (return_max_only == False) else max(result, key=result.get)"
   ]
  },
  {
   "cell_type": "markdown",
   "metadata": {},
   "source": [
    "**Distância de [Wasserman](https://networkx.github.io/documentation/stable/reference/algorithms/generated/networkx.algorithms.centrality.closeness_centrality.html?highlight=wasserman)**"
   ]
  },
  {
   "cell_type": "code",
   "execution_count": 51,
   "metadata": {},
   "outputs": [
    {
     "name": "stdout",
     "output_type": "stream",
     "text": [
      "{\n",
      "  \"Araripina\": 0.5,\n",
      "  \"Caruaru\": 0.5625,\n",
      "  \"Igarassu\": 0.6428571428571429,\n",
      "  \"Cabrobo\": 0.5,\n",
      "  \"Recife\": 0.5,\n",
      "  \"Surubim\": 0.5625,\n",
      "  \"Salgueiro\": 0.6923076923076923,\n",
      "  \"Ouricuri\": 0.6923076923076923,\n",
      "  \"Carpina\": 0.36,\n",
      "  \"Petrolina\": 0.6\n",
      "}\n"
     ]
    },
    {
     "data": {
      "text/plain": [
       "'Salgueiro'"
      ]
     },
     "execution_count": 51,
     "metadata": {},
     "output_type": "execute_result"
    }
   ],
   "source": [
    "run_algorithm(nx.closeness_centrality, gnx)"
   ]
  },
  {
   "cell_type": "markdown",
   "metadata": {},
   "source": [
    "**Distancia [Harmônica](https://networkx.github.io/documentation/stable/reference/algorithms/generated/networkx.algorithms.centrality.harmonic_centrality.html?highlight=harmonic#networkx.algorithms.centrality.harmonic_centrality)**"
   ]
  },
  {
   "cell_type": "code",
   "execution_count": 47,
   "metadata": {},
   "outputs": [
    {
     "name": "stdout",
     "output_type": "stream",
     "text": [
      "{\n",
      "  \"Araripina\": 5.166666666666666,\n",
      "  \"Caruaru\": 5.833333333333333,\n",
      "  \"Igarassu\": 6.5,\n",
      "  \"Cabrobo\": 5.166666666666666,\n",
      "  \"Recife\": 5.166666666666666,\n",
      "  \"Surubim\": 5.833333333333333,\n",
      "  \"Salgueiro\": 7.0,\n",
      "  \"Ouricuri\": 7.0,\n",
      "  \"Carpina\": 3.833333333333334,\n",
      "  \"Petrolina\": 6.0\n",
      "}\n"
     ]
    },
    {
     "data": {
      "text/plain": [
       "'Salgueiro'"
      ]
     },
     "execution_count": 47,
     "metadata": {},
     "output_type": "execute_result"
    }
   ],
   "source": [
    "run_algorithm(nx.harmonic_centrality, gnx)"
   ]
  },
  {
   "cell_type": "markdown",
   "metadata": {},
   "source": [
    "### 3. Determine o nó central por intermediação ([betweenness](https://networkx.github.io/documentation/stable/reference/algorithms/generated/networkx.algorithms.bipartite.centrality.betweenness_centrality.html?highlight=betweenness#networkx.algorithms.bipartite.centrality.betweenness_centrality))"
   ]
  },
  {
   "cell_type": "code",
   "execution_count": 52,
   "metadata": {},
   "outputs": [
    {
     "name": "stdout",
     "output_type": "stream",
     "text": [
      "{\n",
      "  \"Araripina\": 0.06018518518518519,\n",
      "  \"Caruaru\": 0.08912037037037036,\n",
      "  \"Igarassu\": 0.12384259259259257,\n",
      "  \"Cabrobo\": 0.1597222222222222,\n",
      "  \"Recife\": 0.05648148148148147,\n",
      "  \"Surubim\": 0.09583333333333334,\n",
      "  \"Salgueiro\": 0.2710648148148148,\n",
      "  \"Ouricuri\": 0.11435185185185186,\n",
      "  \"Carpina\": 0.021296296296296292,\n",
      "  \"Petrolina\": 0.0636574074074074\n",
      "}\n"
     ]
    },
    {
     "data": {
      "text/plain": [
       "'Salgueiro'"
      ]
     },
     "execution_count": 52,
     "metadata": {},
     "output_type": "execute_result"
    }
   ],
   "source": [
    "run_algorithm(nx.betweenness_centrality, gnx)"
   ]
  },
  {
   "cell_type": "markdown",
   "metadata": {},
   "source": [
    "**Extra: Determine o nó central por [PageRank](https://graphframes.github.io/graphframes/docs/_site/user-guide.html#pagerank)**"
   ]
  },
  {
   "cell_type": "code",
   "execution_count": 31,
   "metadata": {},
   "outputs": [],
   "source": [
    "results = g.pageRank(resetProbability=0.15,\n",
    "                     maxIter=20)"
   ]
  },
  {
   "cell_type": "code",
   "execution_count": 32,
   "metadata": {},
   "outputs": [
    {
     "name": "stdout",
     "output_type": "stream",
     "text": [
      "+---------+--------+---------+----------+-------------------+\n",
      "|       id|latitude|longitude|population|           pagerank|\n",
      "+---------+--------+---------+----------+-------------------+\n",
      "|Salgueiro|  8.0725|  39.1268|     59769| 1.5366951248264467|\n",
      "| Ouricuri|  7.8809|  40.0810|     69459|  1.396244031087945|\n",
      "| Igarassu|   78292|   349016|     91953|  1.320543664197592|\n",
      "|  Surubim|  7.8543|  35.7630|     64520| 1.0306770214526706|\n",
      "|Petrolina|  9.3891|  40.5031|       217| 0.9515740788711936|\n",
      "|  Caruaru|  8.2760|  35.9819|    277982| 0.9060900588412013|\n",
      "|Araripina|  7.5766|  40.4976|     84418| 0.8774219616291241|\n",
      "|  Cabrobo|  8.5082|  39.3103|     33856| 0.8339998727525862|\n",
      "|   Recife|  8.0522|  34.9286|   1555000| 0.7604541089661059|\n",
      "|  Carpina|  7.8450|  35.2437|     81054|0.38630007737513467|\n",
      "+---------+--------+---------+----------+-------------------+\n",
      "\n"
     ]
    }
   ],
   "source": [
    "results.vertices.sort(\"pagerank\", ascending=False).show()"
   ]
  },
  {
   "cell_type": "markdown",
   "metadata": {},
   "source": [
    "Nó central utilizando PageRank: Salgueiro."
   ]
  }
 ],
 "metadata": {
  "kernelspec": {
   "display_name": "Python 3",
   "language": "python",
   "name": "python3"
  },
  "language_info": {
   "codemirror_mode": {
    "name": "ipython",
    "version": 3
   },
   "file_extension": ".py",
   "mimetype": "text/x-python",
   "name": "python",
   "nbconvert_exporter": "python",
   "pygments_lexer": "ipython3",
   "version": "3.7.6"
  }
 },
 "nbformat": 4,
 "nbformat_minor": 4
}
