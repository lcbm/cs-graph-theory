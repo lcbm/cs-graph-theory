{
 "cells": [
  {
   "cell_type": "markdown",
   "metadata": {},
   "source": [
    "# Exercise List 6"
   ]
  },
  {
   "cell_type": "markdown",
   "metadata": {},
   "source": [
    "Utilizando o Apache Spark e demais ferramentas correlatas, além do grafo construído na lista 5, implemente as seguintes operações:\n",
    "\n",
    "1. Determine o nó central através do grau.\n",
    "2. Determine o nó central por centralidade utilizando a distância de Wasserman e a distância harmônica (consultar material).\n",
    "3. Determine o nó central por intermediação."
   ]
  },
  {
   "cell_type": "markdown",
   "metadata": {},
   "source": [
    "**Setup**"
   ]
  },
  {
   "cell_type": "code",
   "execution_count": 1,
   "metadata": {},
   "outputs": [],
   "source": [
    "from pyspark import SparkConf\n",
    "from pyspark.context import SparkContext\n",
    "from pyspark.sql.session import SparkSession\n",
    "\n",
    "conf = SparkConf().setAppName('appName').setMaster('local')\n",
    "sc = SparkContext.getOrCreate(conf)\n",
    "spark = SparkSession(sc)"
   ]
  },
  {
   "cell_type": "markdown",
   "metadata": {},
   "source": [
    "### Exercise 5"
   ]
  },
  {
   "cell_type": "markdown",
   "metadata": {},
   "source": [
    "**Crie um CSV para armazenar as cidades, com: `id` (nome da cidade), `latitude`, `longitude` e `população`**"
   ]
  },
  {
   "cell_type": "code",
   "execution_count": 2,
   "metadata": {},
   "outputs": [
    {
     "name": "stdout",
     "output_type": "stream",
     "text": [
      "+---------+--------+---------+----------+\n",
      "|       id|latitude|longitude|population|\n",
      "+---------+--------+---------+----------+\n",
      "|Araripina|  7.5766|  40.4976|     84418|\n",
      "|  Caruaru|  8.2760|  35.9819|    277982|\n",
      "| Igarassu|   78292|   349016|     91953|\n",
      "|  Cabrobo|  8.5082|  39.3103|     33856|\n",
      "|  Carpina|  7.8450|  35.2437|     81054|\n",
      "| Ouricuri|  7.8809|  40.0810|     69459|\n",
      "|  Surubim|  7.8543|  35.7630|     64520|\n",
      "|Petrolina|  9.3891|  40.5031|       217|\n",
      "|Salgueiro|  8.0725|  39.1268|     59769|\n",
      "|   Recife|  8.0522|  34.9286|   1555000|\n",
      "+---------+--------+---------+----------+\n",
      "\n"
     ]
    }
   ],
   "source": [
    "cidades = spark.read.format(\"csv\").option(\"header\", \"true\").load(\"data/transport/transport-nodes.csv\")\n",
    "cidades.show()"
   ]
  },
  {
   "cell_type": "markdown",
   "metadata": {},
   "source": [
    "**Crie outro CSV para armazenar a distância entre essas cidades, com: `src`, `dst` e `relationship` como campos**"
   ]
  },
  {
   "cell_type": "code",
   "execution_count": 3,
   "metadata": {},
   "outputs": [
    {
     "name": "stdout",
     "output_type": "stream",
     "text": [
      "+---------+---------+------------+----+\n",
      "|      src|      dst|relationship|cost|\n",
      "+---------+---------+------------+----+\n",
      "|Araripina|  Caruaru|       EROAD| 551|\n",
      "|Araripina| Igarassu|       EROAD| 700|\n",
      "|Araripina|  Cabrobo|       EROAD| 186|\n",
      "|   Recife|  Surubim|       EROAD| 118|\n",
      "|   Recife|Salgueiro|       EROAD| 510|\n",
      "|   Recife|  Caruaru|       EROAD| 510|\n",
      "| Ouricuri| Igarassu|       EROAD| 641|\n",
      "| Ouricuri|  Surubim|       EROAD| 525|\n",
      "| Ouricuri|Salgueiro|       EROAD| 359|\n",
      "|  Cabrobo| Ouricuri|       EROAD| 127|\n",
      "|  Cabrobo|  Carpina|       EROAD| 502|\n",
      "|  Cabrobo|   Recife|       EROAD| 526|\n",
      "| Igarassu|Salgueiro|       EROAD| 529|\n",
      "| Igarassu| Ouricuri|       EROAD| 197|\n",
      "| Igarassu|   Recife|       EROAD|  28|\n",
      "|  Carpina|Petrolina|       EROAD| 681|\n",
      "|  Carpina|Salgueiro|       EROAD| 480|\n",
      "|  Carpina| Ouricuri|       EROAD| 591|\n",
      "|Petrolina| Ouricuri|       EROAD| 154|\n",
      "|Petrolina|  Surubim|       EROAD|  66|\n",
      "|Petrolina| Igarassu|       EROAD| 726|\n",
      "|  Surubim|Araripina|       EROAD| 583|\n",
      "|  Surubim|  Caruaru|       EROAD|  67|\n",
      "|  Surubim|Salgueiro|       EROAD| 413|\n",
      "|Salgueiro|Araripina|       EROAD| 171|\n",
      "|Salgueiro|  Cabrobo|       EROAD|  60|\n",
      "|Salgueiro|Petrolina|       EROAD| 234|\n",
      "|  Caruaru| Igarassu|       EROAD| 151|\n",
      "|  Caruaru|Petrolina|       EROAD| 576|\n",
      "|  Caruaru| Ouricuri|       EROAD| 492|\n",
      "+---------+---------+------------+----+\n",
      "\n"
     ]
    }
   ],
   "source": [
    "distancias = spark.read.format(\"csv\").option(\"header\", \"true\").load(\"data/transport/transport-relationships.csv\")\n",
    "distancias.show(30)"
   ]
  },
  {
   "cell_type": "markdown",
   "metadata": {},
   "source": [
    "### 2. Utilizando as bibliotecas do Spark, crie um objeto GraphFrame a partir desses dois CSVs."
   ]
  },
  {
   "cell_type": "code",
   "execution_count": 4,
   "metadata": {},
   "outputs": [],
   "source": [
    "from graphframes import *\n",
    "\n",
    "g = GraphFrame(cidades, distancias)"
   ]
  },
  {
   "cell_type": "code",
   "execution_count": 5,
   "metadata": {},
   "outputs": [
    {
     "name": "stdout",
     "output_type": "stream",
     "text": [
      "+---------+--------+---------+----------+\n",
      "|       id|latitude|longitude|population|\n",
      "+---------+--------+---------+----------+\n",
      "|Araripina|  7.5766|  40.4976|     84418|\n",
      "|  Caruaru|  8.2760|  35.9819|    277982|\n",
      "| Igarassu|   78292|   349016|     91953|\n",
      "|  Cabrobo|  8.5082|  39.3103|     33856|\n",
      "|  Carpina|  7.8450|  35.2437|     81054|\n",
      "| Ouricuri|  7.8809|  40.0810|     69459|\n",
      "|  Surubim|  7.8543|  35.7630|     64520|\n",
      "|Petrolina|  9.3891|  40.5031|       217|\n",
      "|Salgueiro|  8.0725|  39.1268|     59769|\n",
      "|   Recife|  8.0522|  34.9286|   1555000|\n",
      "+---------+--------+---------+----------+\n",
      "\n"
     ]
    }
   ],
   "source": [
    "g.vertices.show()"
   ]
  },
  {
   "cell_type": "code",
   "execution_count": 6,
   "metadata": {
    "scrolled": true
   },
   "outputs": [
    {
     "name": "stdout",
     "output_type": "stream",
     "text": [
      "+---------+---------+------------+----+\n",
      "|      src|      dst|relationship|cost|\n",
      "+---------+---------+------------+----+\n",
      "|Araripina|  Caruaru|       EROAD| 551|\n",
      "|Araripina| Igarassu|       EROAD| 700|\n",
      "|Araripina|  Cabrobo|       EROAD| 186|\n",
      "|   Recife|  Surubim|       EROAD| 118|\n",
      "|   Recife|Salgueiro|       EROAD| 510|\n",
      "|   Recife|  Caruaru|       EROAD| 510|\n",
      "| Ouricuri| Igarassu|       EROAD| 641|\n",
      "| Ouricuri|  Surubim|       EROAD| 525|\n",
      "| Ouricuri|Salgueiro|       EROAD| 359|\n",
      "|  Cabrobo| Ouricuri|       EROAD| 127|\n",
      "|  Cabrobo|  Carpina|       EROAD| 502|\n",
      "|  Cabrobo|   Recife|       EROAD| 526|\n",
      "| Igarassu|Salgueiro|       EROAD| 529|\n",
      "| Igarassu| Ouricuri|       EROAD| 197|\n",
      "| Igarassu|   Recife|       EROAD|  28|\n",
      "|  Carpina|Petrolina|       EROAD| 681|\n",
      "|  Carpina|Salgueiro|       EROAD| 480|\n",
      "|  Carpina| Ouricuri|       EROAD| 591|\n",
      "|Petrolina| Ouricuri|       EROAD| 154|\n",
      "|Petrolina|  Surubim|       EROAD|  66|\n",
      "+---------+---------+------------+----+\n",
      "only showing top 20 rows\n",
      "\n"
     ]
    }
   ],
   "source": [
    "g.edges.show()"
   ]
  },
  {
   "cell_type": "markdown",
   "metadata": {},
   "source": [
    "### 3. Utilizando o método `bfs` (Breadth First Search), execute **5** filtragens a sua escolha."
   ]
  },
  {
   "cell_type": "markdown",
   "metadata": {},
   "source": [
    "**Decent and updated [graphframes documentation](https://docs.databricks.com/_static/notebooks/graphframes-user-guide-py.html)**"
   ]
  },
  {
   "cell_type": "code",
   "execution_count": 7,
   "metadata": {
    "scrolled": true
   },
   "outputs": [
    {
     "name": "stdout",
     "output_type": "stream",
     "text": [
      "+--------------------+--------------------+--------------------+--------------------+--------------------+\n",
      "|                from|                  e0|                  v1|                  e1|                  to|\n",
      "+--------------------+--------------------+--------------------+--------------------+--------------------+\n",
      "|[Araripina, 7.576...|[Araripina, Igara...|[Igarassu, 78292,...|[Igarassu, Recife...|[Recife, 8.0522, ...|\n",
      "|[Araripina, 7.576...|[Araripina, Cabro...|[Cabrobo, 8.5082,...|[Cabrobo, Recife,...|[Recife, 8.0522, ...|\n",
      "+--------------------+--------------------+--------------------+--------------------+--------------------+\n",
      "\n"
     ]
    }
   ],
   "source": [
    "g.bfs(fromExpr = \"id = 'Araripina'\",\n",
    "      toExpr = \"id = 'Recife'\",\n",
    "      edgeFilter = \"relationship = 'EROAD'\").show()"
   ]
  },
  {
   "cell_type": "code",
   "execution_count": 8,
   "metadata": {},
   "outputs": [
    {
     "name": "stdout",
     "output_type": "stream",
     "text": [
      "+--------------------+--------------------+--------------------+--------------------+--------------------+--------------------+--------------------+\n",
      "|                from|                  e0|                  v1|                  e1|                  v2|                  e2|                  to|\n",
      "+--------------------+--------------------+--------------------+--------------------+--------------------+--------------------+--------------------+\n",
      "|[Surubim, 7.8543,...|[Surubim, Araripi...|[Araripina, 7.576...|[Araripina, Igara...|[Igarassu, 78292,...|[Igarassu, Recife...|[Recife, 8.0522, ...|\n",
      "|[Surubim, 7.8543,...|[Surubim, Caruaru...|[Caruaru, 8.2760,...|[Caruaru, Igarass...|[Igarassu, 78292,...|[Igarassu, Recife...|[Recife, 8.0522, ...|\n",
      "|[Surubim, 7.8543,...|[Surubim, Araripi...|[Araripina, 7.576...|[Araripina, Cabro...|[Cabrobo, 8.5082,...|[Cabrobo, Recife,...|[Recife, 8.0522, ...|\n",
      "|[Surubim, 7.8543,...|[Surubim, Salguei...|[Salgueiro, 8.072...|[Salgueiro, Cabro...|[Cabrobo, 8.5082,...|[Cabrobo, Recife,...|[Recife, 8.0522, ...|\n",
      "+--------------------+--------------------+--------------------+--------------------+--------------------+--------------------+--------------------+\n",
      "\n"
     ]
    }
   ],
   "source": [
    "g.bfs(fromExpr = \"id = 'Surubim'\",\n",
    "      toExpr = \"id = 'Recife'\",\n",
    "      edgeFilter = \"relationship = 'EROAD'\").show()"
   ]
  },
  {
   "cell_type": "code",
   "execution_count": 9,
   "metadata": {},
   "outputs": [
    {
     "name": "stdout",
     "output_type": "stream",
     "text": [
      "+--------------------+--------------------+--------------------+--------------------+--------------------+\n",
      "|                from|                  e0|                  v1|                  e1|                  to|\n",
      "+--------------------+--------------------+--------------------+--------------------+--------------------+\n",
      "|[Salgueiro, 8.072...|[Salgueiro, Cabro...|[Cabrobo, 8.5082,...|[Cabrobo, Recife,...|[Recife, 8.0522, ...|\n",
      "+--------------------+--------------------+--------------------+--------------------+--------------------+\n",
      "\n"
     ]
    }
   ],
   "source": [
    "g.bfs(fromExpr = \"id = 'Salgueiro'\",\n",
    "      toExpr = \"id = 'Recife'\",\n",
    "      edgeFilter = \"relationship = 'EROAD'\").show()"
   ]
  },
  {
   "cell_type": "code",
   "execution_count": 10,
   "metadata": {},
   "outputs": [
    {
     "name": "stdout",
     "output_type": "stream",
     "text": [
      "+--------------------+--------------------+--------------------+--------------------+--------------------+--------------------+--------------------+\n",
      "|                from|                  e0|                  v1|                  e1|                  v2|                  e2|                  to|\n",
      "+--------------------+--------------------+--------------------+--------------------+--------------------+--------------------+--------------------+\n",
      "|[Carpina, 7.8450,...|[Carpina, Petroli...|[Petrolina, 9.389...|[Petrolina, Igara...|[Igarassu, 78292,...|[Igarassu, Recife...|[Recife, 8.0522, ...|\n",
      "|[Carpina, 7.8450,...|[Carpina, Ouricur...|[Ouricuri, 7.8809...|[Ouricuri, Igaras...|[Igarassu, 78292,...|[Igarassu, Recife...|[Recife, 8.0522, ...|\n",
      "|[Carpina, 7.8450,...|[Carpina, Salguei...|[Salgueiro, 8.072...|[Salgueiro, Cabro...|[Cabrobo, 8.5082,...|[Cabrobo, Recife,...|[Recife, 8.0522, ...|\n",
      "+--------------------+--------------------+--------------------+--------------------+--------------------+--------------------+--------------------+\n",
      "\n"
     ]
    }
   ],
   "source": [
    "g.bfs(fromExpr = \"id = 'Carpina'\",\n",
    "      toExpr = \"id = 'Recife'\",\n",
    "      edgeFilter = \"relationship = 'EROAD'\").show()"
   ]
  },
  {
   "cell_type": "code",
   "execution_count": 11,
   "metadata": {},
   "outputs": [
    {
     "name": "stdout",
     "output_type": "stream",
     "text": [
      "+--------------------+--------------------+--------------------+\n",
      "|                from|                  e0|                  to|\n",
      "+--------------------+--------------------+--------------------+\n",
      "|[Cabrobo, 8.5082,...|[Cabrobo, Recife,...|[Recife, 8.0522, ...|\n",
      "+--------------------+--------------------+--------------------+\n",
      "\n"
     ]
    }
   ],
   "source": [
    "g.bfs(fromExpr = \"id = 'Cabrobo'\",\n",
    "      toExpr = \"id = 'Recife'\",\n",
    "      edgeFilter = \"relationship = 'EROAD'\").show()"
   ]
  },
  {
   "cell_type": "code",
   "execution_count": 12,
   "metadata": {},
   "outputs": [
    {
     "name": "stdout",
     "output_type": "stream",
     "text": [
      "+--------------------+--------------------+--------------------+\n",
      "|                from|                  e0|                  to|\n",
      "+--------------------+--------------------+--------------------+\n",
      "|[Igarassu, 78292,...|[Igarassu, Recife...|[Recife, 8.0522, ...|\n",
      "+--------------------+--------------------+--------------------+\n",
      "\n"
     ]
    }
   ],
   "source": [
    "g.bfs(fromExpr = \"id = 'Igarassu'\",\n",
    "      toExpr = \"id = 'Recife'\",\n",
    "      edgeFilter = \"relationship = 'EROAD'\").show()"
   ]
  },
  {
   "cell_type": "markdown",
   "metadata": {},
   "source": [
    "### 4. Execute 2 consultas utilizando o método `find`."
   ]
  },
  {
   "cell_type": "code",
   "execution_count": 13,
   "metadata": {},
   "outputs": [
    {
     "name": "stdout",
     "output_type": "stream",
     "text": [
      "+--------------------+--------------------+--------------------+--------------------+\n",
      "|                   a|                   e|                   b|                  e2|\n",
      "+--------------------+--------------------+--------------------+--------------------+\n",
      "|[Ouricuri, 7.8809...|[Ouricuri, Igaras...|[Igarassu, 78292,...|[Igarassu, Ouricu...|\n",
      "|[Igarassu, 78292,...|[Igarassu, Ouricu...|[Ouricuri, 7.8809...|[Ouricuri, Igaras...|\n",
      "+--------------------+--------------------+--------------------+--------------------+\n",
      "\n"
     ]
    }
   ],
   "source": [
    "# find vertices with edges in both directions between them\n",
    "g.find(\"(a)-[e]->(b); (b)-[e2]->(a)\").show()"
   ]
  },
  {
   "cell_type": "code",
   "execution_count": 14,
   "metadata": {
    "scrolled": true
   },
   "outputs": [
    {
     "name": "stdout",
     "output_type": "stream",
     "text": [
      "+--------------------+--------------------+--------------------+--------------------+--------------------+\n",
      "|                   a|                  ab|                   b|                  bc|                   c|\n",
      "+--------------------+--------------------+--------------------+--------------------+--------------------+\n",
      "|[Araripina, 7.576...|[Araripina, Carua...|[Caruaru, 8.2760,...|[Caruaru, Ouricur...|[Ouricuri, 7.8809...|\n",
      "|[Araripina, 7.576...|[Araripina, Carua...|[Caruaru, 8.2760,...|[Caruaru, Petroli...|[Petrolina, 9.389...|\n",
      "|[Araripina, 7.576...|[Araripina, Carua...|[Caruaru, 8.2760,...|[Caruaru, Igarass...|[Igarassu, 78292,...|\n",
      "|[Araripina, 7.576...|[Araripina, Igara...|[Igarassu, 78292,...|[Igarassu, Recife...|[Recife, 8.0522, ...|\n",
      "|[Araripina, 7.576...|[Araripina, Igara...|[Igarassu, 78292,...|[Igarassu, Ouricu...|[Ouricuri, 7.8809...|\n",
      "|[Araripina, 7.576...|[Araripina, Igara...|[Igarassu, 78292,...|[Igarassu, Salgue...|[Salgueiro, 8.072...|\n",
      "|[Araripina, 7.576...|[Araripina, Cabro...|[Cabrobo, 8.5082,...|[Cabrobo, Recife,...|[Recife, 8.0522, ...|\n",
      "|[Araripina, 7.576...|[Araripina, Cabro...|[Cabrobo, 8.5082,...|[Cabrobo, Carpina...|[Carpina, 7.8450,...|\n",
      "|[Araripina, 7.576...|[Araripina, Cabro...|[Cabrobo, 8.5082,...|[Cabrobo, Ouricur...|[Ouricuri, 7.8809...|\n",
      "|[Recife, 8.0522, ...|[Recife, Surubim,...|[Surubim, 7.8543,...|[Surubim, Salguei...|[Salgueiro, 8.072...|\n",
      "|[Recife, 8.0522, ...|[Recife, Surubim,...|[Surubim, 7.8543,...|[Surubim, Caruaru...|[Caruaru, 8.2760,...|\n",
      "|[Recife, 8.0522, ...|[Recife, Surubim,...|[Surubim, 7.8543,...|[Surubim, Araripi...|[Araripina, 7.576...|\n",
      "|[Recife, 8.0522, ...|[Recife, Salgueir...|[Salgueiro, 8.072...|[Salgueiro, Petro...|[Petrolina, 9.389...|\n",
      "|[Recife, 8.0522, ...|[Recife, Salgueir...|[Salgueiro, 8.072...|[Salgueiro, Cabro...|[Cabrobo, 8.5082,...|\n",
      "|[Recife, 8.0522, ...|[Recife, Salgueir...|[Salgueiro, 8.072...|[Salgueiro, Arari...|[Araripina, 7.576...|\n",
      "|[Recife, 8.0522, ...|[Recife, Caruaru,...|[Caruaru, 8.2760,...|[Caruaru, Ouricur...|[Ouricuri, 7.8809...|\n",
      "|[Recife, 8.0522, ...|[Recife, Caruaru,...|[Caruaru, 8.2760,...|[Caruaru, Petroli...|[Petrolina, 9.389...|\n",
      "|[Recife, 8.0522, ...|[Recife, Caruaru,...|[Caruaru, 8.2760,...|[Caruaru, Igarass...|[Igarassu, 78292,...|\n",
      "|[Ouricuri, 7.8809...|[Ouricuri, Igaras...|[Igarassu, 78292,...|[Igarassu, Recife...|[Recife, 8.0522, ...|\n",
      "|[Ouricuri, 7.8809...|[Ouricuri, Igaras...|[Igarassu, 78292,...|[Igarassu, Ouricu...|[Ouricuri, 7.8809...|\n",
      "+--------------------+--------------------+--------------------+--------------------+--------------------+\n",
      "only showing top 20 rows\n",
      "\n"
     ]
    }
   ],
   "source": [
    "# find vertices in chains of three\n",
    "g.find(\"(a)-[ab]->(b); (b)-[bc]->(c)\").show()"
   ]
  },
  {
   "cell_type": "markdown",
   "metadata": {},
   "source": [
    "### 5. Execute 2 consultas utilizando o método `filterVertices`."
   ]
  },
  {
   "cell_type": "markdown",
   "metadata": {},
   "source": [
    "**Filter 1: g2**"
   ]
  },
  {
   "cell_type": "code",
   "execution_count": 15,
   "metadata": {},
   "outputs": [],
   "source": [
    "g2 = g.filterEdges(\"cost < 500\").filterVertices(\"population > 100000 or latitude < 8\")"
   ]
  },
  {
   "cell_type": "code",
   "execution_count": 16,
   "metadata": {},
   "outputs": [
    {
     "name": "stdout",
     "output_type": "stream",
     "text": [
      "+---------+--------+---------+----------+\n",
      "|       id|latitude|longitude|population|\n",
      "+---------+--------+---------+----------+\n",
      "|Araripina|  7.5766|  40.4976|     84418|\n",
      "|  Caruaru|  8.2760|  35.9819|    277982|\n",
      "|  Carpina|  7.8450|  35.2437|     81054|\n",
      "| Ouricuri|  7.8809|  40.0810|     69459|\n",
      "|  Surubim|  7.8543|  35.7630|     64520|\n",
      "|   Recife|  8.0522|  34.9286|   1555000|\n",
      "+---------+--------+---------+----------+\n",
      "\n"
     ]
    }
   ],
   "source": [
    "g2.vertices.show()"
   ]
  },
  {
   "cell_type": "code",
   "execution_count": 17,
   "metadata": {},
   "outputs": [
    {
     "name": "stdout",
     "output_type": "stream",
     "text": [
      "+-------+--------+------------+----+\n",
      "|    src|     dst|relationship|cost|\n",
      "+-------+--------+------------+----+\n",
      "| Recife| Surubim|       EROAD| 118|\n",
      "|Surubim| Caruaru|       EROAD|  67|\n",
      "|Caruaru|Ouricuri|       EROAD| 492|\n",
      "+-------+--------+------------+----+\n",
      "\n"
     ]
    }
   ],
   "source": [
    "g2.edges.show()"
   ]
  },
  {
   "cell_type": "markdown",
   "metadata": {},
   "source": [
    "**Filter 2: g3**"
   ]
  },
  {
   "cell_type": "code",
   "execution_count": 18,
   "metadata": {},
   "outputs": [],
   "source": [
    "g3 = g.filterEdges(\"cost > 500\").filterVertices(\"latitude > 7 and population > 100000\")"
   ]
  },
  {
   "cell_type": "code",
   "execution_count": 19,
   "metadata": {},
   "outputs": [
    {
     "name": "stdout",
     "output_type": "stream",
     "text": [
      "+-------+--------+---------+----------+\n",
      "|     id|latitude|longitude|population|\n",
      "+-------+--------+---------+----------+\n",
      "|Caruaru|  8.2760|  35.9819|    277982|\n",
      "| Recife|  8.0522|  34.9286|   1555000|\n",
      "+-------+--------+---------+----------+\n",
      "\n"
     ]
    }
   ],
   "source": [
    "g3.vertices.show()"
   ]
  },
  {
   "cell_type": "code",
   "execution_count": 20,
   "metadata": {
    "scrolled": true
   },
   "outputs": [
    {
     "name": "stdout",
     "output_type": "stream",
     "text": [
      "+------+-------+------------+----+\n",
      "|   src|    dst|relationship|cost|\n",
      "+------+-------+------------+----+\n",
      "|Recife|Caruaru|       EROAD| 510|\n",
      "+------+-------+------------+----+\n",
      "\n"
     ]
    }
   ],
   "source": [
    "g3.edges.show()"
   ]
  },
  {
   "cell_type": "markdown",
   "metadata": {},
   "source": [
    "### Exercise 6"
   ]
  },
  {
   "cell_type": "markdown",
   "metadata": {},
   "source": [
    "### 1. Determine o nó central através do grau."
   ]
  },
  {
   "cell_type": "code",
   "execution_count": 21,
   "metadata": {},
   "outputs": [],
   "source": [
    "total_degree = g.degrees\n",
    "in_degree    = g.inDegrees\n",
    "out_degree   = g.outDegrees"
   ]
  },
  {
   "cell_type": "code",
   "execution_count": 22,
   "metadata": {},
   "outputs": [
    {
     "name": "stdout",
     "output_type": "stream",
     "text": [
      "+---------+------+--------+---------+\n",
      "|       id|degree|inDegree|outDegree|\n",
      "+---------+------+--------+---------+\n",
      "| Ouricuri|     8|       5|        3|\n",
      "|Salgueiro|     8|       5|        3|\n",
      "| Igarassu|     7|       4|        3|\n",
      "|Petrolina|     6|       3|        3|\n",
      "|  Caruaru|     6|       3|        3|\n",
      "|  Surubim|     6|       3|        3|\n",
      "|   Recife|     5|       2|        3|\n",
      "|Araripina|     5|       2|        3|\n",
      "|  Cabrobo|     5|       2|        3|\n",
      "|  Carpina|     4|       1|        3|\n",
      "+---------+------+--------+---------+\n",
      "\n"
     ]
    }
   ],
   "source": [
    "(total_degree\n",
    "    .join(in_degree, \"id\", how=\"left\")\n",
    "    .join(out_degree, \"id\", how=\"left\")\n",
    "    .fillna(0)\n",
    "    .sort(\"inDegree\", ascending=False)\n",
    "    .show())"
   ]
  },
  {
   "cell_type": "markdown",
   "metadata": {},
   "source": [
    "Por grau, os nós centrais são: Ouricuri e Salgueiro."
   ]
  },
  {
   "cell_type": "markdown",
   "metadata": {},
   "source": [
    "### 2. Determine o nó central por centralidade utilizando a distância de Wasserman e a distância harmônica (consultar material)."
   ]
  },
  {
   "cell_type": "markdown",
   "metadata": {},
   "source": [
    "**Distância de Wasserman**"
   ]
  },
  {
   "cell_type": "code",
   "execution_count": null,
   "metadata": {},
   "outputs": [],
   "source": []
  },
  {
   "cell_type": "code",
   "execution_count": null,
   "metadata": {},
   "outputs": [],
   "source": []
  },
  {
   "cell_type": "markdown",
   "metadata": {},
   "source": [
    "**Distancia Harmônica**"
   ]
  },
  {
   "cell_type": "code",
   "execution_count": null,
   "metadata": {},
   "outputs": [],
   "source": []
  },
  {
   "cell_type": "code",
   "execution_count": null,
   "metadata": {},
   "outputs": [],
   "source": []
  },
  {
   "cell_type": "markdown",
   "metadata": {},
   "source": [
    "### 3. Determine o nó central por intermediação."
   ]
  },
  {
   "cell_type": "code",
   "execution_count": null,
   "metadata": {},
   "outputs": [],
   "source": []
  },
  {
   "cell_type": "code",
   "execution_count": null,
   "metadata": {},
   "outputs": [],
   "source": []
  },
  {
   "cell_type": "code",
   "execution_count": null,
   "metadata": {},
   "outputs": [],
   "source": []
  }
 ],
 "metadata": {
  "kernelspec": {
   "display_name": "Python 3",
   "language": "python",
   "name": "python3"
  },
  "language_info": {
   "codemirror_mode": {
    "name": "ipython",
    "version": 3
   },
   "file_extension": ".py",
   "mimetype": "text/x-python",
   "name": "python",
   "nbconvert_exporter": "python",
   "pygments_lexer": "ipython3",
   "version": "3.7.6"
  }
 },
 "nbformat": 4,
 "nbformat_minor": 4
}
